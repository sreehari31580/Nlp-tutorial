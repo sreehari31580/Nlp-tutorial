{
  "nbformat": 4,
  "nbformat_minor": 0,
  "metadata": {
    "colab": {
      "provenance": [],
      "authorship_tag": "ABX9TyMMkJ2kRYax9+KO9XE4s1Ph",
      "include_colab_link": true
    },
    "kernelspec": {
      "name": "python3",
      "display_name": "Python 3"
    },
    "language_info": {
      "name": "python"
    }
  },
  "cells": [
    {
      "cell_type": "markdown",
      "metadata": {
        "id": "view-in-github",
        "colab_type": "text"
      },
      "source": [
        "<a href=\"https://colab.research.google.com/github/sreehari31580/Nlp-tutorial/blob/main/TDF_IDF_and_Bag_of_words.ipynb\" target=\"_parent\"><img src=\"https://colab.research.google.com/assets/colab-badge.svg\" alt=\"Open In Colab\"/></a>"
      ]
    },
    {
      "cell_type": "code",
      "source": [
        "# 1. Import Required Libraries\n",
        "import pandas as pd\n",
        "from sklearn.feature_extraction.text import CountVectorizer, TfidfVectorizer\n",
        "from sklearn.linear_model import LogisticRegression\n",
        "from sklearn.model_selection import train_test_split\n",
        "from sklearn.metrics import accuracy_score, classification_report\n"
      ],
      "metadata": {
        "id": "JFvMe_yESJBL"
      },
      "execution_count": 11,
      "outputs": []
    },
    {
      "cell_type": "code",
      "execution_count": 12,
      "metadata": {
        "colab": {
          "base_uri": "https://localhost:8080/"
        },
        "id": "AQy3jxwsR0t2",
        "outputId": "55eed90c-6e23-4a4e-d163-d92a10902912"
      },
      "outputs": [
        {
          "output_type": "stream",
          "name": "stdout",
          "text": [
            "                                              review sentiment\n",
            "0  One of the other reviewers has mentioned that ...  positive\n",
            "1  A wonderful little production. <br /><br />The...  positive\n",
            "2  I thought this was a wonderful way to spend ti...  positive\n",
            "3  Basically there's a family where a little boy ...  negative\n",
            "4  Petter Mattei's \"Love in the Time of Money\" is...  positive\n"
          ]
        }
      ],
      "source": [
        "\n",
        "# 2. Load Dataset\n",
        "text_data = pd.read_csv(\"/content/IMDB Dataset.csv\")  # Change path if needed\n",
        "\n",
        "# Check the data\n",
        "print(text_data.head())"
      ]
    },
    {
      "cell_type": "code",
      "source": [
        "\n",
        "# 3. Extract Features and Labels\n",
        "X = text_data['review']\n",
        "y = text_data['sentiment'].map({'positive': 1, 'negative': 0})  # Convert to binary\n"
      ],
      "metadata": {
        "id": "QzG_sGaZSFkI"
      },
      "execution_count": 13,
      "outputs": []
    },
    {
      "cell_type": "code",
      "source": [
        "\n",
        "# 4. Train/Test Split (for both BoW and TF-IDF)\n",
        "X_train_raw, X_test_raw, y_train, y_test = train_test_split(X, y, test_size=0.2, random_state=42)\n"
      ],
      "metadata": {
        "id": "d_KlElbDSL40"
      },
      "execution_count": 14,
      "outputs": []
    },
    {
      "cell_type": "code",
      "source": [
        "\n",
        "# 5. Bag-of-Words Vectorization\n",
        "bow_vectorizer = CountVectorizer(stop_words='english', max_features=5000)\n",
        "X_train_bow = bow_vectorizer.fit_transform(X_train_raw)\n",
        "X_test_bow = bow_vectorizer.transform(X_test_raw)"
      ],
      "metadata": {
        "id": "Nf_9Yq_hSRfx"
      },
      "execution_count": 15,
      "outputs": []
    },
    {
      "cell_type": "code",
      "source": [
        "\n",
        "# 6. TF-IDF Vectorization\n",
        "tfidf_vectorizer = TfidfVectorizer(stop_words='english', max_features=5000)\n",
        "X_train_tfidf = tfidf_vectorizer.fit_transform(X_train_raw)\n",
        "X_test_tfidf = tfidf_vectorizer.transform(X_test_raw)"
      ],
      "metadata": {
        "id": "jzju_fWjSejD"
      },
      "execution_count": 16,
      "outputs": []
    },
    {
      "cell_type": "code",
      "source": [
        "# 7. Train & Evaluate Model on Bag-of-Words\n",
        "clf_bow = LogisticRegression(max_iter=1000)\n",
        "clf_bow.fit(X_train_bow, y_train)\n",
        "y_pred_bow = clf_bow.predict(X_test_bow)\n",
        "accuracy_bow = accuracy_score(y_test, y_pred_bow)\n",
        "print(\"\\nBag-of-Words Accuracy:\", accuracy_bow)\n",
        "print(\"BoW Classification Report:\\n\", classification_report(y_test, y_pred_bow))\n"
      ],
      "metadata": {
        "colab": {
          "base_uri": "https://localhost:8080/"
        },
        "id": "cUwRguqAS9sO",
        "outputId": "c6424b6c-bf96-451a-88ef-30a0ef079d92"
      },
      "execution_count": 17,
      "outputs": [
        {
          "output_type": "stream",
          "name": "stdout",
          "text": [
            "\n",
            "Bag-of-Words Accuracy: 0.87\n",
            "BoW Classification Report:\n",
            "               precision    recall  f1-score   support\n",
            "\n",
            "           0       0.88      0.86      0.87      4961\n",
            "           1       0.87      0.88      0.87      5039\n",
            "\n",
            "    accuracy                           0.87     10000\n",
            "   macro avg       0.87      0.87      0.87     10000\n",
            "weighted avg       0.87      0.87      0.87     10000\n",
            "\n"
          ]
        }
      ]
    },
    {
      "cell_type": "code",
      "source": [
        "# 8. Train & Evaluate Model on TF-IDF\n",
        "clf_tfidf = LogisticRegression(max_iter=1000)\n",
        "clf_tfidf.fit(X_train_tfidf, y_train)\n",
        "y_pred_tfidf = clf_tfidf.predict(X_test_tfidf)\n",
        "accuracy_tfidf = accuracy_score(y_test, y_pred_tfidf)\n",
        "print(\"\\nTF-IDF Accuracy:\", accuracy_tfidf)\n",
        "print(\"TF-IDF Classification Report:\\n\", classification_report(y_test, y_pred_tfidf))"
      ],
      "metadata": {
        "colab": {
          "base_uri": "https://localhost:8080/"
        },
        "id": "ED6ajqFATAz2",
        "outputId": "dd570482-32cd-458d-83d5-ef862ef8d22a"
      },
      "execution_count": 18,
      "outputs": [
        {
          "output_type": "stream",
          "name": "stdout",
          "text": [
            "\n",
            "TF-IDF Accuracy: 0.8889\n",
            "TF-IDF Classification Report:\n",
            "               precision    recall  f1-score   support\n",
            "\n",
            "           0       0.90      0.87      0.89      4961\n",
            "           1       0.88      0.90      0.89      5039\n",
            "\n",
            "    accuracy                           0.89     10000\n",
            "   macro avg       0.89      0.89      0.89     10000\n",
            "weighted avg       0.89      0.89      0.89     10000\n",
            "\n"
          ]
        }
      ]
    },
    {
      "cell_type": "code",
      "source": [
        "# 9. Performance Comparison\n",
        "print(\"\\n--- Comparison Summary ---\")\n",
        "print(f\"Bag-of-Words Accuracy : {accuracy_bow:.4f}\")\n",
        "print(f\"TF-IDF Accuracy       : {accuracy_tfidf:.4f}\")"
      ],
      "metadata": {
        "colab": {
          "base_uri": "https://localhost:8080/"
        },
        "id": "kV2qhYNvTE6Q",
        "outputId": "d9faa7a1-ad4c-42ad-e392-35367479e8d5"
      },
      "execution_count": 19,
      "outputs": [
        {
          "output_type": "stream",
          "name": "stdout",
          "text": [
            "\n",
            "--- Comparison Summary ---\n",
            "Bag-of-Words Accuracy : 0.8700\n",
            "TF-IDF Accuracy       : 0.8889\n"
          ]
        }
      ]
    }
  ]
}